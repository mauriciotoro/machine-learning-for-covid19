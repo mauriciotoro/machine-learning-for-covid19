{
 "cells": [
  {
   "cell_type": "code",
   "execution_count": 98,
   "metadata": {},
   "outputs": [],
   "source": [
    "import pandas as pd\n",
    "import requests\n",
    "import io\n",
    "import unidecode\n"
   ]
  },
  {
   "cell_type": "code",
   "execution_count": 64,
   "metadata": {},
   "outputs": [],
   "source": [
    "filenames = [\"CasosColombia_01May.csv\",\n",
    "\"CasosColombia_03May.csv\",\n",
    "\"CasosColombia_04May.csv\",\n",
    "\"CasosColombia_05May.csv\",\n",
    "\"CasosColombia_10Abril.csv\",\n",
    "\"CasosColombia_11Abril.csv\",\n",
    "\"CasosColombia_12Abril.csv\",\n",
    "# \"CasosColombia_13Abril.csv\",\n",
    "\"CasosColombia_14Abril.csv\",\n",
    "\"CasosColombia_15Abril.csv\",\n",
    "\"CasosColombia_16Abril.csv\",\n",
    "\"CasosColombia_17Abril.csv\",\n",
    "# \"CasosColombia_17Abril12pm.csv\",\n",
    "\"CasosColombia_18Abril.csv\",\n",
    "\"CasosColombia_19Abril.csv\",\n",
    "\"CasosColombia_1Abril.csv\",\n",
    "\"CasosColombia_20Abril.csv\",\n",
    "\"CasosColombia_21Abril.csv\",\n",
    "\"CasosColombia_22Abril.csv\",\n",
    "\"CasosColombia_23Abril.csv\",\n",
    "\"CasosColombia_23marzo.csv\",\n",
    "\"CasosColombia_24Abril.csv\",\n",
    "\"CasosColombia_24marzo.csv\",\n",
    "\"CasosColombia_25Abril.csv\",\n",
    "\"CasosColombia_25Marzo.csv\",\n",
    "\"CasosColombia_26Abril.csv\",\n",
    "\"CasosColombia_26marzo.csv\",\n",
    "\"CasosColombia_27Abril.csv\",\n",
    "\"CasosColombia_27marzo.csv\",\n",
    "\"CasosColombia_28Abril.csv\",\n",
    "\"CasosColombia_28marzo.csv\",\n",
    "\"CasosColombia_29Abril.csv\",\n",
    "\"CasosColombia_29marzo.csv\",\n",
    "\"CasosColombia_2Abril.csv\",\n",
    "\"CasosColombia_30Abril.csv\",\n",
    "\"CasosColombia_30marzo.csv\",\n",
    "\"CasosColombia_31marzo.csv\",\n",
    "\"CasosColombia_3Abril.csv\",\n",
    "\"CasosColombia_4Abril.csv\",\n",
    "\"CasosColombia_5Abril.csv\",\n",
    "\"CasosColombia_6Abril.csv\",\n",
    "\"CasosColombia_7Abril.csv\",\n",
    "\"CasosColombia_8Abril.csv\",\n",
    "\"CasosColombia_9Abril.csv\"]"
   ]
  },
  {
   "cell_type": "code",
   "execution_count": 110,
   "metadata": {},
   "outputs": [],
   "source": [
    "uci_all = pd.DataFrame()\n",
    "for filename in filenames:\n",
    "#     print(filename)\n",
    "    url = f\"https://raw.githubusercontent.com/guberney/Covid_Colombia/master/Covid_datos/ReporteDiarios/{filename}\"\n",
    "    s=requests.get(url).content\n",
    "    df=pd.read_csv(io.StringIO(s.decode('utf-8')))\n",
    "    df = df.rename(columns={\"atención\":\"atencion\",\n",
    "                            \"Atención**\": \"atencion\",\n",
    "                            \"Atención\": \"atencion\",\n",
    "                            \"Edad\": \"edad\",\n",
    "                            \"Ciudad de ubicación\": \"ciudad\"})\n",
    "    df[\"atencion\"] = df[\"atencion\"].str.upper()\n",
    "    df[\"ciudad\"] = df[\"ciudad\"].apply(lambda x: unidecode.unidecode(x.upper()))\n",
    "    df = df.replace(\"BOGOTA D.C.\", \"BOGOTA\")\n",
    "    uci = df[df[\"atencion\"] == \"HOSPITAL UCI\"]\n",
    "    nombre_fecha = filename\n",
    "    nombre_fecha = nombre_fecha.replace(\"CasosColombia_\", \"\").replace(\".csv\", \"\")\n",
    "    nombre_fecha = nombre_fecha.replace(\"May\", \"-05\").replace(\"Abril\", \"-04\").replace(\"marzo\", \"-03\").replace(\"Marzo\", \"-03\")\n",
    "    nombre_fecha = nombre_fecha + \"-2020\"\n",
    "    uci_by_city = uci.groupby(\"ciudad\")[\"edad\"].count().to_frame(nombre_fecha).T\n",
    "\n",
    "    uci_all = uci_all.append(uci_by_city)\n",
    "\n",
    "uci_all = uci_all.reset_index()\n",
    "uci_all = uci_all.rename(columns={\"index\":\"fecha\"})\n",
    "uci_all[\"fecha\"] = pd.to_datetime(uci_all[\"fecha\"], dayfirst=True)\n",
    "uci_all = uci_all.sort_values(\"fecha\")\n",
    "uci_all[\"fecha\"] = uci_all[\"fecha\"].astype(str)"
   ]
  },
  {
   "cell_type": "code",
   "execution_count": 117,
   "metadata": {},
   "outputs": [
    {
     "data": {
      "text/plain": [
       "Index(['fecha', 'AGUACHICA', 'BARRANQUILLA', 'BELLO', 'BOGOTA', 'BUENAVENTURA',\n",
       "       'CALI', 'CARTAGENA DE INDIAS', 'CUCUTA', 'DOSQUEBRADAS', 'FLORIDA',\n",
       "       'IBAGUE', 'IPIALES', 'ITAGUI', 'MALAMBO', 'MEDELLIN', 'MOSQUERA',\n",
       "       'NEIVA', 'PALERMO', 'PALMIRA', 'PASTO', 'PEREIRA', 'SAN CRISTOBAL',\n",
       "       'SAN JUAN DEL CESAR', 'SANTA MARTA', 'VALLEDUPAR', 'VILLAVICENCIO',\n",
       "       'YUMBO', 'DAGUA', 'CIENAGA', 'COPACABANA', 'SOLEDAD', 'CARTAGENA',\n",
       "       'ENVIGADO', 'ESPINAL', 'FLORIDABLANCA', 'SAN FRANCISCO', 'TENJO',\n",
       "       'ZIPAQUIRA', 'VILLAMARIA', 'VILLA DEL ROSARIO', 'ARMENIA', 'JAMUNDI',\n",
       "       'PUERTO COLOMBIA', 'SAN MARTIN', 'RIOHACHA', 'SONSON', 'TUNJA',\n",
       "       'TURBACO', 'VILLAPINZON', 'CALAMAR', 'EL COLEGIO', 'SIBATE',\n",
       "       'RIO DE ORO', 'PUEBLOVIEJO', 'MELGAR', 'POPAYAN', 'RIONEGRO', 'TOGUI',\n",
       "       'BARRANCABERMEJA'],\n",
       "      dtype='object')"
      ]
     },
     "execution_count": 117,
     "metadata": {},
     "output_type": "execute_result"
    }
   ],
   "source": [
    "uci_all.columns"
   ]
  },
  {
   "cell_type": "code",
   "execution_count": 120,
   "metadata": {},
   "outputs": [],
   "source": [
    "uci_all.to_csv(\"ciudad-uci.csv\")"
   ]
  }
 ],
 "metadata": {
  "kernelspec": {
   "display_name": "Python 3",
   "language": "python",
   "name": "python3"
  },
  "language_info": {
   "codemirror_mode": {
    "name": "ipython",
    "version": 3
   },
   "file_extension": ".py",
   "mimetype": "text/x-python",
   "name": "python",
   "nbconvert_exporter": "python",
   "pygments_lexer": "ipython3",
   "version": "3.8.2"
  },
  "toc": {
   "base_numbering": 1,
   "nav_menu": {},
   "number_sections": true,
   "sideBar": true,
   "skip_h1_title": false,
   "title_cell": "Table of Contents",
   "title_sidebar": "Contents",
   "toc_cell": false,
   "toc_position": {},
   "toc_section_display": true,
   "toc_window_display": false
  }
 },
 "nbformat": 4,
 "nbformat_minor": 4
}
