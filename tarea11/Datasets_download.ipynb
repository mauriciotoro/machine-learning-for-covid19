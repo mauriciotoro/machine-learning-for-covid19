{
 "cells": [
  {
   "cell_type": "code",
   "execution_count": 10,
   "metadata": {},
   "outputs": [],
   "source": [
    "import pandas as pd\n",
    "import requests\n",
    "import io"
   ]
  },
  {
   "cell_type": "code",
   "execution_count": 11,
   "metadata": {},
   "outputs": [],
   "source": [
    "def load_dataset(tipo):\n",
    "    if tipo == \"Confirmed\":\n",
    "        file = \"time_series_covid19_confirmed_global.csv\"\n",
    "    elif tipo == \"Deaths\":\n",
    "        file = \"time_series_covid19_deaths_global.csv\"\n",
    "    else:\n",
    "        file = \"time_series_covid19_recovered_global.csv\"\n",
    "\n",
    "    url_confirmed=f\"https://raw.githubusercontent.com/CSSEGISandData/COVID-19/master/csse_covid_19_data/csse_covid_19_time_series/{file}\"\n",
    "    s=requests.get(url_confirmed).content\n",
    "    df=pd.read_csv(io.StringIO(s.decode('utf-8')))\n",
    "    df = df.drop([\"Province/State\", \"Lat\", \"Long\"], axis=1)\n",
    "    df = pd.DataFrame(df.set_index(\"Country/Region\").stack()).reset_index()\n",
    "    df = df.rename(columns={\"Country/Region\":\"Country\",\"level_1\":\"Date\", 0:tipo})\n",
    "    df[\"Date\"] = pd.to_datetime(df[\"Date\"])\n",
    "    df = df.groupby([\"Date\", \"Country\"])[tipo].max().reset_index()\n",
    "    return df"
   ]
  },
  {
   "cell_type": "code",
   "execution_count": 15,
   "metadata": {},
   "outputs": [],
   "source": [
    "confirmed_df = load_dataset(\"Confirmed\")\n",
    "deaths_df = load_dataset(\"Deaths\")\n",
    "recovered_df = load_dataset(\"Recovered\")\n",
    "\n",
    "confirmed_df.to_csv(\"Confirmed.csv\", index=False)\n",
    "deaths_df.to_csv(\"Deaths.csv\", index=False)\n",
    "recovered_df.to_csv(\"Recovered.csv\", index=False)"
   ]
  },
  {
   "cell_type": "code",
   "execution_count": null,
   "metadata": {},
   "outputs": [],
   "source": []
  }
 ],
 "metadata": {
  "kernelspec": {
   "display_name": "Python 3",
   "language": "python",
   "name": "python3"
  },
  "language_info": {
   "codemirror_mode": {
    "name": "ipython",
    "version": 3
   },
   "file_extension": ".py",
   "mimetype": "text/x-python",
   "name": "python",
   "nbconvert_exporter": "python",
   "pygments_lexer": "ipython3",
   "version": "3.7.5"
  },
  "toc": {
   "base_numbering": 1,
   "nav_menu": {},
   "number_sections": true,
   "sideBar": true,
   "skip_h1_title": false,
   "title_cell": "Table of Contents",
   "title_sidebar": "Contents",
   "toc_cell": false,
   "toc_position": {},
   "toc_section_display": true,
   "toc_window_display": false
  }
 },
 "nbformat": 4,
 "nbformat_minor": 4
}
