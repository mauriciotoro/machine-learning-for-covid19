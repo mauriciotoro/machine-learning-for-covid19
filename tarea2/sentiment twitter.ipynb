{
 "cells": [
  {
   "cell_type": "code",
   "execution_count": 15,
   "metadata": {},
   "outputs": [],
   "source": [
    "import pandas as pd\n",
    "from classifier import *"
   ]
  },
  {
   "cell_type": "code",
   "execution_count": 16,
   "metadata": {},
   "outputs": [],
   "source": [
    "df = pd.read_csv(\"tweetsColombia.csv\").drop(\"Unnamed: 0\", axis=1)"
   ]
  },
  {
   "cell_type": "code",
   "execution_count": 17,
   "metadata": {
    "scrolled": false
   },
   "outputs": [
    {
     "data": {
      "text/html": [
       "<div>\n",
       "<style scoped>\n",
       "    .dataframe tbody tr th:only-of-type {\n",
       "        vertical-align: middle;\n",
       "    }\n",
       "\n",
       "    .dataframe tbody tr th {\n",
       "        vertical-align: top;\n",
       "    }\n",
       "\n",
       "    .dataframe thead th {\n",
       "        text-align: right;\n",
       "    }\n",
       "</style>\n",
       "<table border=\"1\" class=\"dataframe\">\n",
       "  <thead>\n",
       "    <tr style=\"text-align: right;\">\n",
       "      <th></th>\n",
       "      <th>USER</th>\n",
       "      <th>LOCATION</th>\n",
       "      <th>CREATED</th>\n",
       "      <th>TWEET</th>\n",
       "      <th>FAVCOUNT</th>\n",
       "      <th>COORDS</th>\n",
       "      <th>FOLLOWERS</th>\n",
       "    </tr>\n",
       "  </thead>\n",
       "  <tbody>\n",
       "    <tr>\n",
       "      <th>0</th>\n",
       "      <td>@Amonnymous</td>\n",
       "      <td>MONTERIA</td>\n",
       "      <td>2020-04-11 01:31:20</td>\n",
       "      <td>Colombia, país en el que ni una pandemia impid...</td>\n",
       "      <td>0</td>\n",
       "      <td>NaN</td>\n",
       "      <td>1643</td>\n",
       "    </tr>\n",
       "    <tr>\n",
       "      <th>1</th>\n",
       "      <td>@a_azurdia</td>\n",
       "      <td>COLOMBIA</td>\n",
       "      <td>2020-04-11 01:31:20</td>\n",
       "      <td>Nos vamos a volver a abrazar...FE !!!</td>\n",
       "      <td>0</td>\n",
       "      <td>NaN</td>\n",
       "      <td>1617</td>\n",
       "    </tr>\n",
       "    <tr>\n",
       "      <th>2</th>\n",
       "      <td>@jaaa2000</td>\n",
       "      <td>MEDELLIN</td>\n",
       "      <td>2020-04-11 01:31:21</td>\n",
       "      <td>Ni los perros ni los gatos 🐶🐱 te pueden contag...</td>\n",
       "      <td>0</td>\n",
       "      <td>NaN</td>\n",
       "      <td>79</td>\n",
       "    </tr>\n",
       "    <tr>\n",
       "      <th>3</th>\n",
       "      <td>@ReyOspina3</td>\n",
       "      <td>ATLANTICO</td>\n",
       "      <td>2020-04-11 01:31:21</td>\n",
       "      <td>👏👏🔥 Todas las felicitaciones al equipo humano ...</td>\n",
       "      <td>0</td>\n",
       "      <td>NaN</td>\n",
       "      <td>354</td>\n",
       "    </tr>\n",
       "    <tr>\n",
       "      <th>4</th>\n",
       "      <td>@La_Mara_VilIa</td>\n",
       "      <td>BARRANQUILLA</td>\n",
       "      <td>2020-04-11 01:31:21</td>\n",
       "      <td>Siento que estoy desperdiciando mi Lenceria en...</td>\n",
       "      <td>0</td>\n",
       "      <td>NaN</td>\n",
       "      <td>25994</td>\n",
       "    </tr>\n",
       "  </tbody>\n",
       "</table>\n",
       "</div>"
      ],
      "text/plain": [
       "             USER      LOCATION              CREATED  \\\n",
       "0     @Amonnymous      MONTERIA  2020-04-11 01:31:20   \n",
       "1      @a_azurdia      COLOMBIA  2020-04-11 01:31:20   \n",
       "2       @jaaa2000      MEDELLIN  2020-04-11 01:31:21   \n",
       "3     @ReyOspina3     ATLANTICO  2020-04-11 01:31:21   \n",
       "4  @La_Mara_VilIa  BARRANQUILLA  2020-04-11 01:31:21   \n",
       "\n",
       "                                               TWEET  FAVCOUNT COORDS  \\\n",
       "0  Colombia, país en el que ni una pandemia impid...         0    NaN   \n",
       "1              Nos vamos a volver a abrazar...FE !!!         0    NaN   \n",
       "2  Ni los perros ni los gatos 🐶🐱 te pueden contag...         0    NaN   \n",
       "3  👏👏🔥 Todas las felicitaciones al equipo humano ...         0    NaN   \n",
       "4  Siento que estoy desperdiciando mi Lenceria en...         0    NaN   \n",
       "\n",
       "   FOLLOWERS  \n",
       "0       1643  \n",
       "1       1617  \n",
       "2         79  \n",
       "3        354  \n",
       "4      25994  "
      ]
     },
     "execution_count": 17,
     "metadata": {},
     "output_type": "execute_result"
    }
   ],
   "source": [
    "df.head()"
   ]
  },
  {
   "cell_type": "code",
   "execution_count": 18,
   "metadata": {},
   "outputs": [],
   "source": [
    "clf = SentimentClassifier()"
   ]
  },
  {
   "cell_type": "code",
   "execution_count": 19,
   "metadata": {},
   "outputs": [
    {
     "data": {
      "text/plain": [
       "0.13567762150207635"
      ]
     },
     "execution_count": 19,
     "metadata": {},
     "output_type": "execute_result"
    }
   ],
   "source": [
    "clf.predict(\"los odio a todos\")"
   ]
  },
  {
   "cell_type": "code",
   "execution_count": 20,
   "metadata": {},
   "outputs": [],
   "source": [
    "df[\"sentiment\"] = df[\"TWEET\"].apply(lambda x: clf.predict(x))"
   ]
  },
  {
   "cell_type": "code",
   "execution_count": 21,
   "metadata": {},
   "outputs": [
    {
     "data": {
      "text/html": [
       "<div>\n",
       "<style scoped>\n",
       "    .dataframe tbody tr th:only-of-type {\n",
       "        vertical-align: middle;\n",
       "    }\n",
       "\n",
       "    .dataframe tbody tr th {\n",
       "        vertical-align: top;\n",
       "    }\n",
       "\n",
       "    .dataframe thead th {\n",
       "        text-align: right;\n",
       "    }\n",
       "</style>\n",
       "<table border=\"1\" class=\"dataframe\">\n",
       "  <thead>\n",
       "    <tr style=\"text-align: right;\">\n",
       "      <th></th>\n",
       "      <th>USER</th>\n",
       "      <th>LOCATION</th>\n",
       "      <th>CREATED</th>\n",
       "      <th>TWEET</th>\n",
       "      <th>FAVCOUNT</th>\n",
       "      <th>COORDS</th>\n",
       "      <th>FOLLOWERS</th>\n",
       "      <th>sentiment</th>\n",
       "    </tr>\n",
       "  </thead>\n",
       "  <tbody>\n",
       "    <tr>\n",
       "      <th>0</th>\n",
       "      <td>@Amonnymous</td>\n",
       "      <td>MONTERIA</td>\n",
       "      <td>2020-04-11 01:31:20</td>\n",
       "      <td>Colombia, país en el que ni una pandemia impid...</td>\n",
       "      <td>0</td>\n",
       "      <td>NaN</td>\n",
       "      <td>1643</td>\n",
       "      <td>0.286812</td>\n",
       "    </tr>\n",
       "    <tr>\n",
       "      <th>1</th>\n",
       "      <td>@a_azurdia</td>\n",
       "      <td>COLOMBIA</td>\n",
       "      <td>2020-04-11 01:31:20</td>\n",
       "      <td>Nos vamos a volver a abrazar...FE !!!</td>\n",
       "      <td>0</td>\n",
       "      <td>NaN</td>\n",
       "      <td>1617</td>\n",
       "      <td>0.556796</td>\n",
       "    </tr>\n",
       "    <tr>\n",
       "      <th>2</th>\n",
       "      <td>@jaaa2000</td>\n",
       "      <td>MEDELLIN</td>\n",
       "      <td>2020-04-11 01:31:21</td>\n",
       "      <td>Ni los perros ni los gatos 🐶🐱 te pueden contag...</td>\n",
       "      <td>0</td>\n",
       "      <td>NaN</td>\n",
       "      <td>79</td>\n",
       "      <td>0.001723</td>\n",
       "    </tr>\n",
       "    <tr>\n",
       "      <th>3</th>\n",
       "      <td>@ReyOspina3</td>\n",
       "      <td>ATLANTICO</td>\n",
       "      <td>2020-04-11 01:31:21</td>\n",
       "      <td>👏👏🔥 Todas las felicitaciones al equipo humano ...</td>\n",
       "      <td>0</td>\n",
       "      <td>NaN</td>\n",
       "      <td>354</td>\n",
       "      <td>0.563493</td>\n",
       "    </tr>\n",
       "    <tr>\n",
       "      <th>4</th>\n",
       "      <td>@La_Mara_VilIa</td>\n",
       "      <td>BARRANQUILLA</td>\n",
       "      <td>2020-04-11 01:31:21</td>\n",
       "      <td>Siento que estoy desperdiciando mi Lenceria en...</td>\n",
       "      <td>0</td>\n",
       "      <td>NaN</td>\n",
       "      <td>25994</td>\n",
       "      <td>0.385724</td>\n",
       "    </tr>\n",
       "  </tbody>\n",
       "</table>\n",
       "</div>"
      ],
      "text/plain": [
       "             USER      LOCATION              CREATED  \\\n",
       "0     @Amonnymous      MONTERIA  2020-04-11 01:31:20   \n",
       "1      @a_azurdia      COLOMBIA  2020-04-11 01:31:20   \n",
       "2       @jaaa2000      MEDELLIN  2020-04-11 01:31:21   \n",
       "3     @ReyOspina3     ATLANTICO  2020-04-11 01:31:21   \n",
       "4  @La_Mara_VilIa  BARRANQUILLA  2020-04-11 01:31:21   \n",
       "\n",
       "                                               TWEET  FAVCOUNT COORDS  \\\n",
       "0  Colombia, país en el que ni una pandemia impid...         0    NaN   \n",
       "1              Nos vamos a volver a abrazar...FE !!!         0    NaN   \n",
       "2  Ni los perros ni los gatos 🐶🐱 te pueden contag...         0    NaN   \n",
       "3  👏👏🔥 Todas las felicitaciones al equipo humano ...         0    NaN   \n",
       "4  Siento que estoy desperdiciando mi Lenceria en...         0    NaN   \n",
       "\n",
       "   FOLLOWERS  sentiment  \n",
       "0       1643   0.286812  \n",
       "1       1617   0.556796  \n",
       "2         79   0.001723  \n",
       "3        354   0.563493  \n",
       "4      25994   0.385724  "
      ]
     },
     "execution_count": 21,
     "metadata": {},
     "output_type": "execute_result"
    }
   ],
   "source": [
    "df.head()"
   ]
  },
  {
   "cell_type": "code",
   "execution_count": 22,
   "metadata": {},
   "outputs": [],
   "source": [
    "df.to_csv(\"tweets_Colombia_sentiment.csv\", index=False)"
   ]
  }
 ],
 "metadata": {
  "kernelspec": {
   "display_name": "Python 3",
   "language": "python",
   "name": "python3"
  },
  "language_info": {
   "codemirror_mode": {
    "name": "ipython",
    "version": 3
   },
   "file_extension": ".py",
   "mimetype": "text/x-python",
   "name": "python",
   "nbconvert_exporter": "python",
   "pygments_lexer": "ipython3",
   "version": "3.7.5"
  },
  "toc": {
   "base_numbering": 1,
   "nav_menu": {},
   "number_sections": true,
   "sideBar": true,
   "skip_h1_title": false,
   "title_cell": "Table of Contents",
   "title_sidebar": "Contents",
   "toc_cell": false,
   "toc_position": {},
   "toc_section_display": true,
   "toc_window_display": false
  }
 },
 "nbformat": 4,
 "nbformat_minor": 4
}
