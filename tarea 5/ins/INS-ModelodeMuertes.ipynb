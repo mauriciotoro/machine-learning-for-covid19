{
 "cells": [
  {
   "cell_type": "code",
   "execution_count": 17,
   "metadata": {
    "colab": {
     "base_uri": "https://localhost:8080/",
     "height": 217
    },
    "colab_type": "code",
    "id": "49Eu5eIwZRF5",
    "outputId": "41370890-3e3c-4670-fa59-5540ce04fc4f"
   },
   "outputs": [
    {
     "name": "stdout",
     "output_type": "stream",
     "text": [
      "WARNING: pip is being invoked by an old script wrapper. This will fail in a future version of pip.\n",
      "Please see https://github.com/pypa/pip/issues/5599 for advice on fixing the underlying issue.\n",
      "To avoid this problem you can invoke Python with '-m pip' instead of running pip directly.\n",
      "Requirement already satisfied: sodapy in /srv/conda/envs/notebook/lib/python3.6/site-packages (2.1.0)\n",
      "Requirement already satisfied: requests>=2.20.0 in /srv/conda/envs/notebook/lib/python3.6/site-packages (from sodapy) (2.22.0)\n",
      "Requirement already satisfied: idna<2.9,>=2.5 in /srv/conda/envs/notebook/lib/python3.6/site-packages (from requests>=2.20.0->sodapy) (2.8)\n",
      "Requirement already satisfied: certifi>=2017.4.17 in /srv/conda/envs/notebook/lib/python3.6/site-packages (from requests>=2.20.0->sodapy) (2020.4.5.1)\n",
      "Requirement already satisfied: chardet<3.1.0,>=3.0.2 in /srv/conda/envs/notebook/lib/python3.6/site-packages (from requests>=2.20.0->sodapy) (3.0.4)\n",
      "Requirement already satisfied: urllib3!=1.25.0,!=1.25.1,<1.26,>=1.21.1 in /srv/conda/envs/notebook/lib/python3.6/site-packages (from requests>=2.20.0->sodapy) (1.25.7)\n"
     ]
    }
   ],
   "source": [
    "!pip install sodapy\n",
    "from sodapy import Socrata\n",
    "import pandas as pd\n",
    "import numpy as np\n",
    "import re\n"
   ]
  },
  {
   "cell_type": "markdown",
   "metadata": {
    "colab_type": "text",
    "id": "jSlWT1Dm-rsN"
   },
   "source": [
    "## Analisis exploratorio y correccion de datos raros o falatantes"
   ]
  },
  {
   "cell_type": "code",
   "execution_count": 18,
   "metadata": {
    "colab": {
     "base_uri": "https://localhost:8080/",
     "height": 35
    },
    "colab_type": "code",
    "id": "88n38YuXgApK",
    "outputId": "e1f88ac4-054f-4c55-fc71-0efbfb615872"
   },
   "outputs": [
    {
     "name": "stderr",
     "output_type": "stream",
     "text": [
      "WARNING:root:Requests made without an app_token will be subject to strict throttling limits.\n"
     ]
    }
   ],
   "source": [
    "def load_colombia_df():\n",
    "    client = Socrata(\"www.datos.gov.co\", None)\n",
    "    results = client.get(\"gt2j-8ykr\", limit=100000)\n",
    "    results_df = pd.DataFrame.from_records(results)\n",
    "    return results_df\n",
    "\n",
    "df = load_colombia_df()\n",
    "df.to_csv(\"ins_covid.csv\", index=False)"
   ]
  },
  {
   "cell_type": "code",
   "execution_count": 19,
   "metadata": {
    "colab": {
     "base_uri": "https://localhost:8080/",
     "height": 600
    },
    "colab_type": "code",
    "id": "aVQWTFK9roS0",
    "outputId": "4e64270d-f53f-42e2-9cf7-5b1d97e58dcc"
   },
   "outputs": [
    {
     "data": {
      "text/html": [
       "<div>\n",
       "<style scoped>\n",
       "    .dataframe tbody tr th:only-of-type {\n",
       "        vertical-align: middle;\n",
       "    }\n",
       "\n",
       "    .dataframe tbody tr th {\n",
       "        vertical-align: top;\n",
       "    }\n",
       "\n",
       "    .dataframe thead th {\n",
       "        text-align: right;\n",
       "    }\n",
       "</style>\n",
       "<table border=\"1\" class=\"dataframe\">\n",
       "  <thead>\n",
       "    <tr style=\"text-align: right;\">\n",
       "      <th></th>\n",
       "      <th>id_de_caso</th>\n",
       "      <th>fecha_de_notificaci_n</th>\n",
       "      <th>codigo_divipola</th>\n",
       "      <th>ciudad_de_ubicaci_n</th>\n",
       "      <th>departamento</th>\n",
       "      <th>atenci_n</th>\n",
       "      <th>edad</th>\n",
       "      <th>sexo</th>\n",
       "      <th>tipo</th>\n",
       "      <th>estado</th>\n",
       "      <th>pa_s_de_procedencia</th>\n",
       "      <th>fis</th>\n",
       "      <th>fecha_de_muerte</th>\n",
       "      <th>fecha_diagnostico</th>\n",
       "      <th>fecha_recuperado</th>\n",
       "      <th>fecha_reporte_web</th>\n",
       "    </tr>\n",
       "  </thead>\n",
       "  <tbody>\n",
       "    <tr>\n",
       "      <th>0</th>\n",
       "      <td>1</td>\n",
       "      <td>2020-03-02T00:00:00.000</td>\n",
       "      <td>11001</td>\n",
       "      <td>Bogotá D.C.</td>\n",
       "      <td>Bogotá D.C.</td>\n",
       "      <td>Recuperado</td>\n",
       "      <td>19</td>\n",
       "      <td>F</td>\n",
       "      <td>Importado</td>\n",
       "      <td>Leve</td>\n",
       "      <td>Italia</td>\n",
       "      <td>2020-02-27T00:00:00.000</td>\n",
       "      <td>-   -</td>\n",
       "      <td>2020-03-06T00:00:00.000</td>\n",
       "      <td>2020-03-13T00:00:00.000</td>\n",
       "      <td>2020-03-06T00:00:00.000</td>\n",
       "    </tr>\n",
       "    <tr>\n",
       "      <th>1</th>\n",
       "      <td>2</td>\n",
       "      <td>2020-03-06T00:00:00.000</td>\n",
       "      <td>76111</td>\n",
       "      <td>Guadalajara de Buga</td>\n",
       "      <td>Valle del Cauca</td>\n",
       "      <td>Recuperado</td>\n",
       "      <td>34</td>\n",
       "      <td>M</td>\n",
       "      <td>Importado</td>\n",
       "      <td>Leve</td>\n",
       "      <td>España</td>\n",
       "      <td>2020-03-04T00:00:00.000</td>\n",
       "      <td>-   -</td>\n",
       "      <td>2020-03-09T00:00:00.000</td>\n",
       "      <td>2020-03-19T00:00:00.000</td>\n",
       "      <td>2020-03-09T00:00:00.000</td>\n",
       "    </tr>\n",
       "    <tr>\n",
       "      <th>2</th>\n",
       "      <td>3</td>\n",
       "      <td>2020-03-07T00:00:00.000</td>\n",
       "      <td>5001</td>\n",
       "      <td>Medellín</td>\n",
       "      <td>Antioquia</td>\n",
       "      <td>Recuperado</td>\n",
       "      <td>50</td>\n",
       "      <td>F</td>\n",
       "      <td>Importado</td>\n",
       "      <td>Leve</td>\n",
       "      <td>España</td>\n",
       "      <td>2020-02-29T00:00:00.000</td>\n",
       "      <td>-   -</td>\n",
       "      <td>2020-03-09T00:00:00.000</td>\n",
       "      <td>2020-03-15T00:00:00.000</td>\n",
       "      <td>2020-03-09T00:00:00.000</td>\n",
       "    </tr>\n",
       "    <tr>\n",
       "      <th>3</th>\n",
       "      <td>4</td>\n",
       "      <td>2020-03-09T00:00:00.000</td>\n",
       "      <td>5001</td>\n",
       "      <td>Medellín</td>\n",
       "      <td>Antioquia</td>\n",
       "      <td>Recuperado</td>\n",
       "      <td>55</td>\n",
       "      <td>M</td>\n",
       "      <td>Relacionado</td>\n",
       "      <td>Leve</td>\n",
       "      <td>Colombia</td>\n",
       "      <td>2020-03-06T00:00:00.000</td>\n",
       "      <td>-   -</td>\n",
       "      <td>2020-03-11T00:00:00.000</td>\n",
       "      <td>2020-03-26T00:00:00.000</td>\n",
       "      <td>2020-03-11T00:00:00.000</td>\n",
       "    </tr>\n",
       "    <tr>\n",
       "      <th>4</th>\n",
       "      <td>5</td>\n",
       "      <td>2020-03-09T00:00:00.000</td>\n",
       "      <td>5001</td>\n",
       "      <td>Medellín</td>\n",
       "      <td>Antioquia</td>\n",
       "      <td>Recuperado</td>\n",
       "      <td>25</td>\n",
       "      <td>M</td>\n",
       "      <td>Relacionado</td>\n",
       "      <td>Leve</td>\n",
       "      <td>Colombia</td>\n",
       "      <td>2020-03-08T00:00:00.000</td>\n",
       "      <td>-   -</td>\n",
       "      <td>2020-03-11T00:00:00.000</td>\n",
       "      <td>2020-03-23T00:00:00.000</td>\n",
       "      <td>2020-03-11T00:00:00.000</td>\n",
       "    </tr>\n",
       "    <tr>\n",
       "      <th>...</th>\n",
       "      <td>...</td>\n",
       "      <td>...</td>\n",
       "      <td>...</td>\n",
       "      <td>...</td>\n",
       "      <td>...</td>\n",
       "      <td>...</td>\n",
       "      <td>...</td>\n",
       "      <td>...</td>\n",
       "      <td>...</td>\n",
       "      <td>...</td>\n",
       "      <td>...</td>\n",
       "      <td>...</td>\n",
       "      <td>...</td>\n",
       "      <td>...</td>\n",
       "      <td>...</td>\n",
       "      <td>...</td>\n",
       "    </tr>\n",
       "    <tr>\n",
       "      <th>18325</th>\n",
       "      <td>18366</td>\n",
       "      <td>2020-05-18T00:00:00.000</td>\n",
       "      <td>5001</td>\n",
       "      <td>Medellín</td>\n",
       "      <td>Antioquia</td>\n",
       "      <td>Casa</td>\n",
       "      <td>39</td>\n",
       "      <td>F</td>\n",
       "      <td>En estudio</td>\n",
       "      <td>Leve</td>\n",
       "      <td>Colombia</td>\n",
       "      <td>2020-05-16T00:00:00.000</td>\n",
       "      <td>-   -</td>\n",
       "      <td>2020-05-21T00:00:00.000</td>\n",
       "      <td>-   -</td>\n",
       "      <td>2020-05-21T00:00:00.000</td>\n",
       "    </tr>\n",
       "    <tr>\n",
       "      <th>18326</th>\n",
       "      <td>18367</td>\n",
       "      <td>2020-05-13T00:00:00.000</td>\n",
       "      <td>76001</td>\n",
       "      <td>Cali</td>\n",
       "      <td>Valle del Cauca</td>\n",
       "      <td>Casa</td>\n",
       "      <td>29</td>\n",
       "      <td>M</td>\n",
       "      <td>En estudio</td>\n",
       "      <td>Leve</td>\n",
       "      <td>Colombia</td>\n",
       "      <td>2020-05-09T00:00:00.000</td>\n",
       "      <td>-   -</td>\n",
       "      <td>2020-05-21T00:00:00.000</td>\n",
       "      <td>-   -</td>\n",
       "      <td>2020-05-21T00:00:00.000</td>\n",
       "    </tr>\n",
       "    <tr>\n",
       "      <th>18327</th>\n",
       "      <td>18368</td>\n",
       "      <td>2020-05-18T00:00:00.000</td>\n",
       "      <td>76001</td>\n",
       "      <td>Cali</td>\n",
       "      <td>Valle del Cauca</td>\n",
       "      <td>Casa</td>\n",
       "      <td>7</td>\n",
       "      <td>M</td>\n",
       "      <td>En estudio</td>\n",
       "      <td>Leve</td>\n",
       "      <td>Colombia</td>\n",
       "      <td>2020-05-12T00:00:00.000</td>\n",
       "      <td>-   -</td>\n",
       "      <td>2020-05-21T00:00:00.000</td>\n",
       "      <td>-   -</td>\n",
       "      <td>2020-05-21T00:00:00.000</td>\n",
       "    </tr>\n",
       "    <tr>\n",
       "      <th>18328</th>\n",
       "      <td>18369</td>\n",
       "      <td>2020-05-16T00:00:00.000</td>\n",
       "      <td>25307</td>\n",
       "      <td>Girardot</td>\n",
       "      <td>Cundinamarca</td>\n",
       "      <td>Casa</td>\n",
       "      <td>48</td>\n",
       "      <td>F</td>\n",
       "      <td>En estudio</td>\n",
       "      <td>Asintomático</td>\n",
       "      <td>Colombia</td>\n",
       "      <td>Asintomático</td>\n",
       "      <td>-   -</td>\n",
       "      <td>2020-05-21T00:00:00.000</td>\n",
       "      <td>-   -</td>\n",
       "      <td>2020-05-21T00:00:00.000</td>\n",
       "    </tr>\n",
       "    <tr>\n",
       "      <th>18329</th>\n",
       "      <td>18370</td>\n",
       "      <td>2020-05-18T00:00:00.000</td>\n",
       "      <td>11001</td>\n",
       "      <td>Bogotá D.C.</td>\n",
       "      <td>Bogotá D.C.</td>\n",
       "      <td>Hospital</td>\n",
       "      <td>59</td>\n",
       "      <td>M</td>\n",
       "      <td>En estudio</td>\n",
       "      <td>Moderado</td>\n",
       "      <td>Colombia</td>\n",
       "      <td>2020-05-10T00:00:00.000</td>\n",
       "      <td>-   -</td>\n",
       "      <td>2020-05-21T00:00:00.000</td>\n",
       "      <td>-   -</td>\n",
       "      <td>2020-05-21T00:00:00.000</td>\n",
       "    </tr>\n",
       "  </tbody>\n",
       "</table>\n",
       "<p>18330 rows × 16 columns</p>\n",
       "</div>"
      ],
      "text/plain": [
       "      id_de_caso    fecha_de_notificaci_n codigo_divipola  \\\n",
       "0              1  2020-03-02T00:00:00.000           11001   \n",
       "1              2  2020-03-06T00:00:00.000           76111   \n",
       "2              3  2020-03-07T00:00:00.000            5001   \n",
       "3              4  2020-03-09T00:00:00.000            5001   \n",
       "4              5  2020-03-09T00:00:00.000            5001   \n",
       "...          ...                      ...             ...   \n",
       "18325      18366  2020-05-18T00:00:00.000            5001   \n",
       "18326      18367  2020-05-13T00:00:00.000           76001   \n",
       "18327      18368  2020-05-18T00:00:00.000           76001   \n",
       "18328      18369  2020-05-16T00:00:00.000           25307   \n",
       "18329      18370  2020-05-18T00:00:00.000           11001   \n",
       "\n",
       "       ciudad_de_ubicaci_n     departamento    atenci_n edad sexo  \\\n",
       "0              Bogotá D.C.      Bogotá D.C.  Recuperado   19    F   \n",
       "1      Guadalajara de Buga  Valle del Cauca  Recuperado   34    M   \n",
       "2                 Medellín        Antioquia  Recuperado   50    F   \n",
       "3                 Medellín        Antioquia  Recuperado   55    M   \n",
       "4                 Medellín        Antioquia  Recuperado   25    M   \n",
       "...                    ...              ...         ...  ...  ...   \n",
       "18325             Medellín        Antioquia        Casa   39    F   \n",
       "18326                 Cali  Valle del Cauca        Casa   29    M   \n",
       "18327                 Cali  Valle del Cauca        Casa    7    M   \n",
       "18328             Girardot     Cundinamarca        Casa   48    F   \n",
       "18329          Bogotá D.C.      Bogotá D.C.    Hospital   59    M   \n",
       "\n",
       "              tipo        estado pa_s_de_procedencia                      fis  \\\n",
       "0        Importado          Leve              Italia  2020-02-27T00:00:00.000   \n",
       "1        Importado          Leve              España  2020-03-04T00:00:00.000   \n",
       "2        Importado          Leve              España  2020-02-29T00:00:00.000   \n",
       "3      Relacionado          Leve            Colombia  2020-03-06T00:00:00.000   \n",
       "4      Relacionado          Leve            Colombia  2020-03-08T00:00:00.000   \n",
       "...            ...           ...                 ...                      ...   \n",
       "18325   En estudio          Leve            Colombia  2020-05-16T00:00:00.000   \n",
       "18326   En estudio          Leve            Colombia  2020-05-09T00:00:00.000   \n",
       "18327   En estudio          Leve            Colombia  2020-05-12T00:00:00.000   \n",
       "18328   En estudio  Asintomático            Colombia             Asintomático   \n",
       "18329   En estudio      Moderado            Colombia  2020-05-10T00:00:00.000   \n",
       "\n",
       "      fecha_de_muerte        fecha_diagnostico         fecha_recuperado  \\\n",
       "0               -   -  2020-03-06T00:00:00.000  2020-03-13T00:00:00.000   \n",
       "1               -   -  2020-03-09T00:00:00.000  2020-03-19T00:00:00.000   \n",
       "2               -   -  2020-03-09T00:00:00.000  2020-03-15T00:00:00.000   \n",
       "3               -   -  2020-03-11T00:00:00.000  2020-03-26T00:00:00.000   \n",
       "4               -   -  2020-03-11T00:00:00.000  2020-03-23T00:00:00.000   \n",
       "...               ...                      ...                      ...   \n",
       "18325           -   -  2020-05-21T00:00:00.000                    -   -   \n",
       "18326           -   -  2020-05-21T00:00:00.000                    -   -   \n",
       "18327           -   -  2020-05-21T00:00:00.000                    -   -   \n",
       "18328           -   -  2020-05-21T00:00:00.000                    -   -   \n",
       "18329           -   -  2020-05-21T00:00:00.000                    -   -   \n",
       "\n",
       "             fecha_reporte_web  \n",
       "0      2020-03-06T00:00:00.000  \n",
       "1      2020-03-09T00:00:00.000  \n",
       "2      2020-03-09T00:00:00.000  \n",
       "3      2020-03-11T00:00:00.000  \n",
       "4      2020-03-11T00:00:00.000  \n",
       "...                        ...  \n",
       "18325  2020-05-21T00:00:00.000  \n",
       "18326  2020-05-21T00:00:00.000  \n",
       "18327  2020-05-21T00:00:00.000  \n",
       "18328  2020-05-21T00:00:00.000  \n",
       "18329  2020-05-21T00:00:00.000  \n",
       "\n",
       "[18330 rows x 16 columns]"
      ]
     },
     "execution_count": 19,
     "metadata": {},
     "output_type": "execute_result"
    }
   ],
   "source": [
    "df"
   ]
  },
  {
   "cell_type": "code",
   "execution_count": 20,
   "metadata": {
    "colab": {},
    "colab_type": "code",
    "id": "oHTif7IzfANv"
   },
   "outputs": [],
   "source": [
    "df.drop(columns=['id_de_caso'], inplace=True)\n",
    "df.drop(columns=['ciudad_de_ubicaci_n'], inplace=True)\n",
    "df.drop(columns=['codigo_divipola'], inplace=True)\n",
    "df.drop(columns=['fecha_reporte_web'], inplace=True)\n",
    "df.drop(columns=['fecha_de_notificaci_n'], inplace=True)\n",
    "df.drop(columns=['fis'], inplace=True)\n"
   ]
  },
  {
   "cell_type": "code",
   "execution_count": 21,
   "metadata": {
    "colab": {},
    "colab_type": "code",
    "id": "y9VzrbFVWtEK"
   },
   "outputs": [],
   "source": [
    "df.columns = ['departamento', 'atencion', 'edad', 'sexo', 'tipo', 'estado', 'procedencia', 'muerte', 'diagnostico', 'recuperado']"
   ]
  },
  {
   "cell_type": "code",
   "execution_count": 22,
   "metadata": {
    "colab": {},
    "colab_type": "code",
    "id": "9rYrHmo5dt7o"
   },
   "outputs": [],
   "source": [
    "letter = ['departamento', 'atencion', 'tipo', 'estado', 'procedencia','sexo']\n",
    "for i in letter:\n",
    "    df[i] = df[i].str.lower()"
   ]
  },
  {
   "cell_type": "code",
   "execution_count": 23,
   "metadata": {
    "colab": {},
    "colab_type": "code",
    "id": "cqUsmABFgMDA"
   },
   "outputs": [],
   "source": [
    "df = df.dropna()\n",
    "df = df.reset_index()\n",
    "df.drop(columns=['index'], inplace=True)"
   ]
  },
  {
   "cell_type": "code",
   "execution_count": 24,
   "metadata": {
    "colab": {},
    "colab_type": "code",
    "id": "flMvcYMWUY9m"
   },
   "outputs": [],
   "source": [
    "for i in range(0, df.shape[0]):\n",
    "    x = re.findall(r\"[0-9][0-9][0-9][0-9]-[0-9][0-9]-[0-9][0-9]\",df['diagnostico'][i])\n",
    "    y = re.findall(r\"[0-9][0-9][0-9][0-9]-[0-9][0-9]-[0-9][0-9]\",df['recuperado'][i])\n",
    "    z = re.findall(r\"[0-9][0-9][0-9][0-9]-[0-9][0-9]-[0-9][0-9]\",df['muerte'][i])\n",
    "    if len(x) == 0:\n",
    "        df['diagnostico'][i] = \"\"\n",
    "    else:\n",
    "        df['diagnostico'][i] = x[0]\n",
    "\n",
    "    if len(y) == 0:\n",
    "        df['recuperado'][i]  = \"\"\n",
    "    else:\n",
    "        df['recuperado'][i]  = y[0]\n",
    "\n",
    "    if len(z) == 0:\n",
    "        df['muerte'][i] =  \"\"\n",
    "    else:\n",
    "        df['muerte'][i] = z[0]"
   ]
  },
  {
   "cell_type": "markdown",
   "metadata": {
    "colab_type": "text",
    "id": "4bbLCkhp-10A"
   },
   "source": [
    "## analisis exploratorio inicial\n"
   ]
  },
  {
   "cell_type": "code",
   "execution_count": 25,
   "metadata": {
    "colab": {},
    "colab_type": "code",
    "id": "RwGW7VJBhkAp"
   },
   "outputs": [],
   "source": [
    "indexes = df[df.edad == '-   -'].index\n",
    "df.drop(indexes , inplace=True)"
   ]
  },
  {
   "cell_type": "code",
   "execution_count": 26,
   "metadata": {
    "colab": {
     "base_uri": "https://localhost:8080/",
     "height": 654
    },
    "colab_type": "code",
    "id": "BqCqKMUaIeTA",
    "outputId": "fe316048-c941-4f0c-b7a3-757812a62a64"
   },
   "outputs": [
    {
     "data": {
      "text/plain": [
       "bogotá d.c.                                                6304\n",
       "valle del cauca                                            1887\n",
       "cartagena d.t. y c.                                        1672\n",
       "amazonas                                                   1384\n",
       "barranquilla d.e.                                          1123\n",
       "atlántico                                                  1063\n",
       "meta                                                        963\n",
       "nariño                                                      592\n",
       "antioquia                                                   587\n",
       "cundinamarca                                                391\n",
       "santa marta d.t. y c.                                       255\n",
       "risaralda                                                   239\n",
       "huila                                                       224\n",
       "magdalena                                                   209\n",
       "tolima                                                      177\n",
       "buenaventura d.e.                                           155\n",
       "boyacá                                                      133\n",
       "caldas                                                      126\n",
       "bolívar                                                     123\n",
       "norte de santander                                          116\n",
       "córdoba                                                      86\n",
       "quindío                                                      83\n",
       "chocó                                                        79\n",
       "cesar                                                        79\n",
       "cauca                                                        67\n",
       "santander                                                    50\n",
       "la guajira                                                   46\n",
       "casanare                                                     26\n",
       "archipiélago de san andrés providencia y santa catalina      21\n",
       "caquetá                                                      21\n",
       "vaupés                                                       11\n",
       "sucre                                                         5\n",
       "putumayo                                                      3\n",
       "arauca                                                        1\n",
       "Name: departamento, dtype: int64"
      ]
     },
     "execution_count": 26,
     "metadata": {},
     "output_type": "execute_result"
    }
   ],
   "source": [
    "df['departamento'].value_counts()"
   ]
  },
  {
   "cell_type": "code",
   "execution_count": 27,
   "metadata": {
    "colab": {
     "base_uri": "https://localhost:8080/",
     "height": 199
    },
    "colab_type": "code",
    "id": "gbOEqQtCJCiw",
    "outputId": "0f7adb2f-1e52-4c53-faac-ac68f5076c67"
   },
   "outputs": [
    {
     "data": {
      "text/plain": [
       "array(['bogotá d.c.', 'valle del cauca', 'antioquia',\n",
       "       'cartagena d.t. y c.', 'huila', 'meta', 'risaralda',\n",
       "       'norte de santander', 'caldas', 'cundinamarca',\n",
       "       'barranquilla d.e.', 'santander', 'quindío', 'tolima', 'cauca',\n",
       "       'santa marta d.t. y c.', 'cesar',\n",
       "       'archipiélago de san andrés providencia y santa catalina',\n",
       "       'casanare', 'nariño', 'atlántico', 'boyacá', 'córdoba', 'bolívar',\n",
       "       'sucre', 'magdalena', 'la guajira', 'buenaventura d.e.', 'chocó',\n",
       "       'amazonas', 'caquetá', 'putumayo', 'arauca', 'vaupés'],\n",
       "      dtype=object)"
      ]
     },
     "execution_count": 27,
     "metadata": {},
     "output_type": "execute_result"
    }
   ],
   "source": [
    "df['departamento'].unique()"
   ]
  },
  {
   "cell_type": "code",
   "execution_count": 28,
   "metadata": {
    "colab": {
     "base_uri": "https://localhost:8080/",
     "height": 72
    },
    "colab_type": "code",
    "id": "kQc59gjKGrLx",
    "outputId": "6ba59f68-9680-4c24-e0f5-118794f66b0f"
   },
   "outputs": [
    {
     "data": {
      "text/plain": [
       "m    10185\n",
       "f     8116\n",
       "Name: sexo, dtype: int64"
      ]
     },
     "execution_count": 28,
     "metadata": {},
     "output_type": "execute_result"
    }
   ],
   "source": [
    "df['sexo'].value_counts()"
   ]
  },
  {
   "cell_type": "code",
   "execution_count": 30,
   "metadata": {
    "colab": {
     "base_uri": "https://localhost:8080/",
     "height": 542
    },
    "colab_type": "code",
    "id": "_B7VEwnp_KxC",
    "outputId": "af00b563-ba41-4951-ebb2-1a8040fb5d76"
   },
   "outputs": [],
   "source": [
    "df2 = df.copy()\n",
    "df2 = df2[(df.muerte != \"\") | (df2.recuperado != \"\")]\n",
    "df2.reset_index()\n",
    "df2.drop(columns = ['atencion', 'diagnostico'], inplace = True)"
   ]
  },
  {
   "cell_type": "markdown",
   "metadata": {
    "colab_type": "text",
    "id": "DJk29-fSKVyj"
   },
   "source": [
    "# Arbol de desicion y machine learning"
   ]
  },
  {
   "cell_type": "code",
   "execution_count": 31,
   "metadata": {
    "colab": {},
    "colab_type": "code",
    "id": "MUQOHHnvJ4SV"
   },
   "outputs": [],
   "source": [
    "from sklearn import preprocessing as pp\n",
    "\n",
    "LE = pp.LabelEncoder()\n",
    "LB = pp.LabelBinarizer()\n",
    "\n",
    "LE.fit(df2.departamento)\n",
    "df2.departamento = LE.fit_transform(df2.departamento)\n",
    "df2.sexo = LB.fit_transform(df2.sexo)\n",
    "df2.tipo = LE.fit_transform(df2.tipo)\n",
    "df2.estado = LE.fit_transform(df2.estado)\n",
    "df2.muerte = LB.fit_transform(df2.muerte)\n",
    "df2.procedencia = LE.fit_transform(df2.procedencia)"
   ]
  },
  {
   "cell_type": "code",
   "execution_count": 32,
   "metadata": {
    "colab": {
     "base_uri": "https://localhost:8080/",
     "height": 407
    },
    "colab_type": "code",
    "id": "cT4nyOtGsLpg",
    "outputId": "16b8cf49-7633-4cfd-dc6e-69c79237d097"
   },
   "outputs": [
    {
     "data": {
      "text/html": [
       "<div>\n",
       "<style scoped>\n",
       "    .dataframe tbody tr th:only-of-type {\n",
       "        vertical-align: middle;\n",
       "    }\n",
       "\n",
       "    .dataframe tbody tr th {\n",
       "        vertical-align: top;\n",
       "    }\n",
       "\n",
       "    .dataframe thead th {\n",
       "        text-align: right;\n",
       "    }\n",
       "</style>\n",
       "<table border=\"1\" class=\"dataframe\">\n",
       "  <thead>\n",
       "    <tr style=\"text-align: right;\">\n",
       "      <th></th>\n",
       "      <th>departamento</th>\n",
       "      <th>edad</th>\n",
       "      <th>sexo</th>\n",
       "      <th>tipo</th>\n",
       "      <th>estado</th>\n",
       "      <th>procedencia</th>\n",
       "      <th>muerte</th>\n",
       "      <th>recuperado</th>\n",
       "    </tr>\n",
       "  </thead>\n",
       "  <tbody>\n",
       "    <tr>\n",
       "      <th>0</th>\n",
       "      <td>5</td>\n",
       "      <td>19</td>\n",
       "      <td>0</td>\n",
       "      <td>1</td>\n",
       "      <td>2</td>\n",
       "      <td>26</td>\n",
       "      <td>1</td>\n",
       "      <td>2020-03-13</td>\n",
       "    </tr>\n",
       "    <tr>\n",
       "      <th>1</th>\n",
       "      <td>30</td>\n",
       "      <td>34</td>\n",
       "      <td>1</td>\n",
       "      <td>1</td>\n",
       "      <td>2</td>\n",
       "      <td>17</td>\n",
       "      <td>1</td>\n",
       "      <td>2020-03-19</td>\n",
       "    </tr>\n",
       "    <tr>\n",
       "      <th>2</th>\n",
       "      <td>1</td>\n",
       "      <td>50</td>\n",
       "      <td>0</td>\n",
       "      <td>1</td>\n",
       "      <td>2</td>\n",
       "      <td>17</td>\n",
       "      <td>1</td>\n",
       "      <td>2020-03-15</td>\n",
       "    </tr>\n",
       "    <tr>\n",
       "      <th>3</th>\n",
       "      <td>1</td>\n",
       "      <td>55</td>\n",
       "      <td>1</td>\n",
       "      <td>2</td>\n",
       "      <td>2</td>\n",
       "      <td>9</td>\n",
       "      <td>1</td>\n",
       "      <td>2020-03-26</td>\n",
       "    </tr>\n",
       "    <tr>\n",
       "      <th>4</th>\n",
       "      <td>1</td>\n",
       "      <td>25</td>\n",
       "      <td>1</td>\n",
       "      <td>2</td>\n",
       "      <td>2</td>\n",
       "      <td>9</td>\n",
       "      <td>1</td>\n",
       "      <td>2020-03-23</td>\n",
       "    </tr>\n",
       "    <tr>\n",
       "      <th>...</th>\n",
       "      <td>...</td>\n",
       "      <td>...</td>\n",
       "      <td>...</td>\n",
       "      <td>...</td>\n",
       "      <td>...</td>\n",
       "      <td>...</td>\n",
       "      <td>...</td>\n",
       "      <td>...</td>\n",
       "    </tr>\n",
       "    <tr>\n",
       "      <th>17734</th>\n",
       "      <td>11</td>\n",
       "      <td>89</td>\n",
       "      <td>0</td>\n",
       "      <td>0</td>\n",
       "      <td>1</td>\n",
       "      <td>9</td>\n",
       "      <td>0</td>\n",
       "      <td></td>\n",
       "    </tr>\n",
       "    <tr>\n",
       "      <th>17763</th>\n",
       "      <td>18</td>\n",
       "      <td>55</td>\n",
       "      <td>1</td>\n",
       "      <td>0</td>\n",
       "      <td>1</td>\n",
       "      <td>9</td>\n",
       "      <td>0</td>\n",
       "      <td></td>\n",
       "    </tr>\n",
       "    <tr>\n",
       "      <th>17914</th>\n",
       "      <td>11</td>\n",
       "      <td>55</td>\n",
       "      <td>1</td>\n",
       "      <td>0</td>\n",
       "      <td>1</td>\n",
       "      <td>9</td>\n",
       "      <td>0</td>\n",
       "      <td></td>\n",
       "    </tr>\n",
       "    <tr>\n",
       "      <th>18153</th>\n",
       "      <td>0</td>\n",
       "      <td>41</td>\n",
       "      <td>1</td>\n",
       "      <td>2</td>\n",
       "      <td>2</td>\n",
       "      <td>9</td>\n",
       "      <td>1</td>\n",
       "      <td>2020-05-05</td>\n",
       "    </tr>\n",
       "    <tr>\n",
       "      <th>18277</th>\n",
       "      <td>11</td>\n",
       "      <td>58</td>\n",
       "      <td>1</td>\n",
       "      <td>2</td>\n",
       "      <td>1</td>\n",
       "      <td>9</td>\n",
       "      <td>0</td>\n",
       "      <td></td>\n",
       "    </tr>\n",
       "  </tbody>\n",
       "</table>\n",
       "<p>5082 rows × 8 columns</p>\n",
       "</div>"
      ],
      "text/plain": [
       "       departamento edad  sexo  tipo  estado  procedencia  muerte  recuperado\n",
       "0                 5   19     0     1       2           26       1  2020-03-13\n",
       "1                30   34     1     1       2           17       1  2020-03-19\n",
       "2                 1   50     0     1       2           17       1  2020-03-15\n",
       "3                 1   55     1     2       2            9       1  2020-03-26\n",
       "4                 1   25     1     2       2            9       1  2020-03-23\n",
       "...             ...  ...   ...   ...     ...          ...     ...         ...\n",
       "17734            11   89     0     0       1            9       0            \n",
       "17763            18   55     1     0       1            9       0            \n",
       "17914            11   55     1     0       1            9       0            \n",
       "18153             0   41     1     2       2            9       1  2020-05-05\n",
       "18277            11   58     1     2       1            9       0            \n",
       "\n",
       "[5082 rows x 8 columns]"
      ]
     },
     "execution_count": 32,
     "metadata": {},
     "output_type": "execute_result"
    }
   ],
   "source": [
    "df2"
   ]
  },
  {
   "cell_type": "code",
   "execution_count": 33,
   "metadata": {
    "colab": {},
    "colab_type": "code",
    "id": "ZcX-4eeUOwUQ"
   },
   "outputs": [],
   "source": [
    "from sklearn.ensemble import RandomForestClassifier\n",
    "from sklearn.model_selection import train_test_split\n",
    "from sklearn.metrics import confusion_matrix \n",
    "from sklearn.metrics import accuracy_score \n",
    "from sklearn.metrics import classification_report \n",
    "\n"
   ]
  },
  {
   "cell_type": "code",
   "execution_count": 34,
   "metadata": {
    "colab": {
     "base_uri": "https://localhost:8080/",
     "height": 108
    },
    "colab_type": "code",
    "id": "ejQIzjf5Pvm-",
    "outputId": "a6191d38-c3b3-46b9-dea8-8b4cbd88f6f5"
   },
   "outputs": [
    {
     "name": "stdout",
     "output_type": "stream",
     "text": [
      "1    1329\n",
      "0     196\n",
      "Name: muerte, dtype: int64 1    3101\n",
      "0     456\n",
      "Name: muerte, dtype: int64\n"
     ]
    }
   ],
   "source": [
    "X, y = df2[['departamento',\t'edad',\t'sexo',\t'tipo',\t'estado']], df2.muerte\n",
    "X_train, X_test, y_train, y_test = train_test_split(X, y, test_size=0.3, stratify = y)\n",
    "print(y_test.value_counts(), y_train.value_counts())"
   ]
  },
  {
   "cell_type": "code",
   "execution_count": 35,
   "metadata": {
    "colab": {
     "base_uri": "https://localhost:8080/",
     "height": 163
    },
    "colab_type": "code",
    "id": "1gLHx7ryQd66",
    "outputId": "5cf26024-6f56-45ab-fb67-8a736747bedd"
   },
   "outputs": [
    {
     "data": {
      "text/plain": [
       "RandomForestClassifier(bootstrap=True, ccp_alpha=0.0, class_weight=None,\n",
       "                       criterion='gini', max_depth=2, max_features='auto',\n",
       "                       max_leaf_nodes=None, max_samples=None,\n",
       "                       min_impurity_decrease=0.0, min_impurity_split=None,\n",
       "                       min_samples_leaf=1, min_samples_split=2,\n",
       "                       min_weight_fraction_leaf=0.0, n_estimators=100,\n",
       "                       n_jobs=None, oob_score=False, random_state=0, verbose=0,\n",
       "                       warm_start=False)"
      ]
     },
     "execution_count": 35,
     "metadata": {},
     "output_type": "execute_result"
    }
   ],
   "source": [
    "clf = RandomForestClassifier(max_depth=2, random_state=0)\n",
    "clf.fit(X_train, y_train)"
   ]
  },
  {
   "cell_type": "markdown",
   "metadata": {
    "colab_type": "text",
    "id": "b4XVbSD3aYkJ"
   },
   "source": [
    "Se utilizo matriz de confusion para medir el rendimiento debido a que su prediccion es binaria"
   ]
  },
  {
   "cell_type": "code",
   "execution_count": 36,
   "metadata": {
    "colab": {
     "base_uri": "https://localhost:8080/",
     "height": 209
    },
    "colab_type": "code",
    "id": "KptsQ3FMx8Vy",
    "outputId": "3a6b443b-e643-403d-e2ca-b93f2a1e975b"
   },
   "outputs": [
    {
     "data": {
      "image/png": "[encoded data removed]",
      "text/plain": [
       "<Figure size 432x288 with 1 Axes>"
      ]
     },
     "metadata": {
      "needs_background": "light"
     },
     "output_type": "display_data"
    }
   ],
   "source": [
    "from PIL import Image\n",
    "import requests\n",
    "import matplotlib.pyplot as plt\n",
    "url = \"https://www.juanbarrios.com/wp-content/uploads/2019/07/matriz.jpg\"\n",
    "response = requests.get(url, stream=True)\n",
    "img = Image.open(response.raw)\n",
    "plt.imshow(img)\n",
    "plt.show()"
   ]
  },
  {
   "cell_type": "code",
   "execution_count": 38,
   "metadata": {
    "colab": {
     "base_uri": "https://localhost:8080/",
     "height": 272
    },
    "colab_type": "code",
    "id": "uZKMU3ctaM5A",
    "outputId": "22ce5319-32c6-495d-a911-7a5cabbffd42"
   },
   "outputs": [
    {
     "name": "stdout",
     "output_type": "stream",
     "text": [
      "Confusion Matrix :\n",
      "[[ 174   22]\n",
      " [   0 1329]]\n",
      "Accuracy Score : 0.9855737704918033\n",
      "Report : \n",
      "              precision    recall  f1-score   support\n",
      "\n",
      "           0       1.00      0.89      0.94       196\n",
      "           1       0.98      1.00      0.99      1329\n",
      "\n",
      "    accuracy                           0.99      1525\n",
      "   macro avg       0.99      0.94      0.97      1525\n",
      "weighted avg       0.99      0.99      0.99      1525\n",
      "\n"
     ]
    }
   ],
   "source": [
    "y_pred = clf.predict(X_test)\n",
    "results = confusion_matrix(y_test, y_pred) \n",
    "print('Confusion Matrix :')\n",
    "print(results) \n",
    "print('Accuracy Score :', accuracy_score(y_test, y_pred)) \n",
    "print('Report : ')\n",
    "print(classification_report(y_test,  y_pred)) \n"
   ]
  }
 ],
 "metadata": {
  "colab": {
   "name": "COVIDanalisis.ipynb",
   "provenance": []
  },
  "kernelspec": {
   "display_name": "Python 3",
   "language": "python",
   "name": "python3"
  },
  "language_info": {
   "codemirror_mode": {
    "name": "ipython",
    "version": 3
   },
   "file_extension": ".py",
   "mimetype": "text/x-python",
   "name": "python",
   "nbconvert_exporter": "python",
   "pygments_lexer": "ipython3",
   "version": "3.6.10"
  }
 },
 "nbformat": 4,
 "nbformat_minor": 1
}
