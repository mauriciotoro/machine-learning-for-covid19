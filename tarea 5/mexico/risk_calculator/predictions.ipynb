{
 "cells": [
  {
   "cell_type": "code",
   "execution_count": 6,
   "metadata": {},
   "outputs": [
    {
     "name": "stdout",
     "output_type": "stream",
     "text": [
      "{'probabilidad': 0.03595171247631351}\n"
     ]
    }
   ],
   "source": [
    "from calculadora import calculadora\n",
    "\n",
    "dict_comor = {\n",
    "    'SEXO': 2, #1 mujer\n",
    "    'NEUMONIA': 1, # 1 es si\n",
    "    'EDAD': 25, \n",
    "    'EMBARAZO': 2, \n",
    "    'DIABETES': 2, \n",
    "    'EPOC': 2, \n",
    "    'ASMA': 2,\n",
    "    'INMUSUPR': 2, \n",
    "    'HIPERTENSION': 2, \n",
    "    'CARDIOVASCULAR': 2, \n",
    "    'OTRA_COM': 2, \n",
    "    'OBESIDAD': 2,\n",
    "    'RENAL_CRONICA': 2, \n",
    "    'TABAQUISMO': 2\n",
    "}\n",
    "\n",
    "print(calculadora(dict_comor))"
   ]
  }
 ],
 "metadata": {
  "kernelspec": {
   "display_name": "Python 3",
   "language": "python",
   "name": "python3"
  },
  "language_info": {
   "codemirror_mode": {
    "name": "ipython",
    "version": 3
   },
   "file_extension": ".py",
   "mimetype": "text/x-python",
   "name": "python",
   "nbconvert_exporter": "python",
   "pygments_lexer": "ipython3",
   "version": "3.7.7"
  },
  "toc": {
   "base_numbering": 1,
   "nav_menu": {},
   "number_sections": true,
   "sideBar": true,
   "skip_h1_title": false,
   "title_cell": "Table of Contents",
   "title_sidebar": "Contents",
   "toc_cell": false,
   "toc_position": {},
   "toc_section_display": true,
   "toc_window_display": false
  }
 },
 "nbformat": 4,
 "nbformat_minor": 4
}
