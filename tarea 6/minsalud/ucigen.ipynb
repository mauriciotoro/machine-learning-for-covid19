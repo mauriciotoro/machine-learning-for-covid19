{
 "cells": [
  {
   "cell_type": "code",
   "execution_count": 1,
   "metadata": {},
   "outputs": [],
   "source": [
    "import pandas as pd"
   ]
  },
  {
   "cell_type": "code",
   "execution_count": 14,
   "metadata": {},
   "outputs": [
    {
     "name": "stderr",
     "output_type": "stream",
     "text": [
      "b'Skipping line 349: expected 33 fields, saw 34\\n'\n"
     ]
    }
   ],
   "source": [
    "df = pd.read_csv(\"CapacidadInstalada.csv\", sep=\";\", error_bad_lines=False, index_col=False)"
   ]
  },
  {
   "cell_type": "code",
   "execution_count": 22,
   "metadata": {},
   "outputs": [
    {
     "data": {
      "text/plain": [
       "0                 0548293198\n",
       "1                 5748288250\n",
       "2                 5744828294\n",
       "3                  448 12 70\n",
       "4                        NaN\n",
       "               ...          \n",
       "387    3177775672-3157513383\n",
       "388                925141810\n",
       "389     2317333 - 3162815315\n",
       "390                  2359497\n",
       "391              31039911944\n",
       "Name: telefono, Length: 392, dtype: object"
      ]
     },
     "execution_count": 22,
     "metadata": {},
     "output_type": "execute_result"
    }
   ],
   "source": [
    "df[\"telefono\"]"
   ]
  },
  {
   "cell_type": "code",
   "execution_count": 16,
   "metadata": {},
   "outputs": [
    {
     "data": {
      "text/plain": [
       "Index(['depa_nombre', 'muni_nombre', 'habi_codigo_habilitacion',\n",
       "       'nombre_prestador', 'codigo_habilitacion', 'numero_sede', 'sede_nombre',\n",
       "       'nits_nit', 'dv', 'clase_persona', 'naju_codigo', 'naju_nombre',\n",
       "       'clpr_codigo', 'clpr_nombre', 'ese', 'nivel', 'caracter', 'habilitado',\n",
       "       'grupo_capacidad', 'coca_codigo', 'coca_nombre', 'cantidad',\n",
       "       'numero_sede_principal', 'numero_placa', 'modalidad', 'modelo',\n",
       "       'numero_tarjeta', 'fecha_corte_REPS', 'gerente', 'direccion', 'email',\n",
       "       'telefono'],\n",
       "      dtype='object')"
      ]
     },
     "execution_count": 16,
     "metadata": {},
     "output_type": "execute_result"
    }
   ],
   "source": [
    "df.columns"
   ]
  },
  {
   "cell_type": "code",
   "execution_count": 29,
   "metadata": {},
   "outputs": [],
   "source": [
    "df_s = df.loc[:, [\"depa_nombre\", \"muni_nombre\", \"sede_nombre\", \"cantidad\", \"telefono\"]]\n",
    "df_s.to_excel(\"UCIxsede.xlsx\")"
   ]
  },
  {
   "cell_type": "code",
   "execution_count": 33,
   "metadata": {},
   "outputs": [],
   "source": [
    "df_dep = df_s.groupby(\"depa_nombre\")[\"cantidad\"].sum().to_frame().reset_index()\n",
    "df_dep.to_excel(\"UCIxdepto.xlsx\")"
   ]
  },
  {
   "cell_type": "code",
   "execution_count": 36,
   "metadata": {},
   "outputs": [],
   "source": [
    "df_muni = df_s.groupby(\"muni_nombre\")[\"cantidad\"].sum().to_frame().reset_index()\n",
    "df_muni.to_excel(\"UCIxmuni.xlsx\")"
   ]
  }
 ],
 "metadata": {
  "kernelspec": {
   "display_name": "Python 3",
   "language": "python",
   "name": "python3"
  },
  "language_info": {
   "codemirror_mode": {
    "name": "ipython",
    "version": 3
   },
   "file_extension": ".py",
   "mimetype": "text/x-python",
   "name": "python",
   "nbconvert_exporter": "python",
   "pygments_lexer": "ipython3",
   "version": "3.8.2"
  },
  "toc": {
   "base_numbering": 1,
   "nav_menu": {},
   "number_sections": true,
   "sideBar": true,
   "skip_h1_title": false,
   "title_cell": "Table of Contents",
   "title_sidebar": "Contents",
   "toc_cell": false,
   "toc_position": {},
   "toc_section_display": true,
   "toc_window_display": false
  }
 },
 "nbformat": 4,
 "nbformat_minor": 4
}
