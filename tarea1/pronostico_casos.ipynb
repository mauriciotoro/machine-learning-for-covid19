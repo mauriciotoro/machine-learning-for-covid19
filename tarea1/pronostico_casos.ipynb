{
 "cells": [
  {
   "cell_type": "code",
   "execution_count": 17,
   "metadata": {
    "scrolled": true
   },
   "outputs": [],
   "source": [
    "import pandas as pd\n",
    "import matplotlib.pyplot as plt\n",
    "from datetime import datetime\n",
    "from statsmodels.tsa.statespace.sarimax import SARIMAX\n",
    "import seaborn as sns"
   ]
  },
  {
   "cell_type": "code",
   "execution_count": 30,
   "metadata": {},
   "outputs": [
    {
     "data": {
      "text/plain": [
       "(28, 4)"
      ]
     },
     "execution_count": 30,
     "metadata": {},
     "output_type": "execute_result"
    }
   ],
   "source": [
    "# leeyendo data set\n",
    "df = pd.read_csv('countries-aggregated.csv')\n",
    "\n",
    "# transformando columna 'Date' de str a datetime\n",
    "df['Date'] = df['Date'].apply(lambda x: datetime.strptime(x, '%Y-%m-%d') )\n",
    "\n",
    "# filtrando df a solo datos de Colombia\n",
    "df_colombia = df[ df['Country'] == 'Colombia' ]\n",
    "\n",
    "# filtrando df_colombia a datos a partir de marzo 2020\n",
    "df_colombia = df_colombia[ df_colombia['Date'] > datetime.strptime('2020-03-01', '%Y-%m-%d') ].drop(\"Country\", axis=1)\n",
    "df_colombia.shape"
   ]
  },
  {
   "cell_type": "code",
   "execution_count": 31,
   "metadata": {},
   "outputs": [
    {
     "data": {
      "text/html": [
       "<div>\n",
       "<style scoped>\n",
       "    .dataframe tbody tr th:only-of-type {\n",
       "        vertical-align: middle;\n",
       "    }\n",
       "\n",
       "    .dataframe tbody tr th {\n",
       "        vertical-align: top;\n",
       "    }\n",
       "\n",
       "    .dataframe thead th {\n",
       "        text-align: right;\n",
       "    }\n",
       "</style>\n",
       "<table border=\"1\" class=\"dataframe\">\n",
       "  <thead>\n",
       "    <tr style=\"text-align: right;\">\n",
       "      <th></th>\n",
       "      <th>Date</th>\n",
       "      <th>Confirmed</th>\n",
       "      <th>Recovered</th>\n",
       "      <th>Deaths</th>\n",
       "    </tr>\n",
       "  </thead>\n",
       "  <tbody>\n",
       "    <tr>\n",
       "      <th>11186</th>\n",
       "      <td>2020-03-25</td>\n",
       "      <td>470</td>\n",
       "      <td>8</td>\n",
       "      <td>4</td>\n",
       "    </tr>\n",
       "    <tr>\n",
       "      <th>11363</th>\n",
       "      <td>2020-03-26</td>\n",
       "      <td>491</td>\n",
       "      <td>8</td>\n",
       "      <td>6</td>\n",
       "    </tr>\n",
       "    <tr>\n",
       "      <th>11540</th>\n",
       "      <td>2020-03-27</td>\n",
       "      <td>539</td>\n",
       "      <td>10</td>\n",
       "      <td>6</td>\n",
       "    </tr>\n",
       "    <tr>\n",
       "      <th>11717</th>\n",
       "      <td>2020-03-28</td>\n",
       "      <td>608</td>\n",
       "      <td>10</td>\n",
       "      <td>6</td>\n",
       "    </tr>\n",
       "    <tr>\n",
       "      <th>11894</th>\n",
       "      <td>2020-03-29</td>\n",
       "      <td>702</td>\n",
       "      <td>10</td>\n",
       "      <td>10</td>\n",
       "    </tr>\n",
       "  </tbody>\n",
       "</table>\n",
       "</div>"
      ],
      "text/plain": [
       "            Date  Confirmed  Recovered  Deaths\n",
       "11186 2020-03-25        470          8       4\n",
       "11363 2020-03-26        491          8       6\n",
       "11540 2020-03-27        539         10       6\n",
       "11717 2020-03-28        608         10       6\n",
       "11894 2020-03-29        702         10      10"
      ]
     },
     "execution_count": 31,
     "metadata": {},
     "output_type": "execute_result"
    }
   ],
   "source": [
    "df_colombia.tail()"
   ]
  },
  {
   "cell_type": "code",
   "execution_count": 33,
   "metadata": {},
   "outputs": [],
   "source": [
    "df_colombia_melt = df_colombia.melt('Date', var_name='cols',  value_name='vals')"
   ]
  },
  {
   "cell_type": "code",
   "execution_count": 34,
   "metadata": {},
   "outputs": [
    {
     "data": {
      "text/html": [
       "<div>\n",
       "<style scoped>\n",
       "    .dataframe tbody tr th:only-of-type {\n",
       "        vertical-align: middle;\n",
       "    }\n",
       "\n",
       "    .dataframe tbody tr th {\n",
       "        vertical-align: top;\n",
       "    }\n",
       "\n",
       "    .dataframe thead th {\n",
       "        text-align: right;\n",
       "    }\n",
       "</style>\n",
       "<table border=\"1\" class=\"dataframe\">\n",
       "  <thead>\n",
       "    <tr style=\"text-align: right;\">\n",
       "      <th></th>\n",
       "      <th>Date</th>\n",
       "      <th>cols</th>\n",
       "      <th>vals</th>\n",
       "    </tr>\n",
       "  </thead>\n",
       "  <tbody>\n",
       "    <tr>\n",
       "      <th>0</th>\n",
       "      <td>2020-03-02</td>\n",
       "      <td>Confirmed</td>\n",
       "      <td>0</td>\n",
       "    </tr>\n",
       "    <tr>\n",
       "      <th>1</th>\n",
       "      <td>2020-03-03</td>\n",
       "      <td>Confirmed</td>\n",
       "      <td>0</td>\n",
       "    </tr>\n",
       "    <tr>\n",
       "      <th>2</th>\n",
       "      <td>2020-03-04</td>\n",
       "      <td>Confirmed</td>\n",
       "      <td>0</td>\n",
       "    </tr>\n",
       "    <tr>\n",
       "      <th>3</th>\n",
       "      <td>2020-03-05</td>\n",
       "      <td>Confirmed</td>\n",
       "      <td>0</td>\n",
       "    </tr>\n",
       "    <tr>\n",
       "      <th>4</th>\n",
       "      <td>2020-03-06</td>\n",
       "      <td>Confirmed</td>\n",
       "      <td>1</td>\n",
       "    </tr>\n",
       "    <tr>\n",
       "      <th>...</th>\n",
       "      <td>...</td>\n",
       "      <td>...</td>\n",
       "      <td>...</td>\n",
       "    </tr>\n",
       "    <tr>\n",
       "      <th>79</th>\n",
       "      <td>2020-03-25</td>\n",
       "      <td>Deaths</td>\n",
       "      <td>4</td>\n",
       "    </tr>\n",
       "    <tr>\n",
       "      <th>80</th>\n",
       "      <td>2020-03-26</td>\n",
       "      <td>Deaths</td>\n",
       "      <td>6</td>\n",
       "    </tr>\n",
       "    <tr>\n",
       "      <th>81</th>\n",
       "      <td>2020-03-27</td>\n",
       "      <td>Deaths</td>\n",
       "      <td>6</td>\n",
       "    </tr>\n",
       "    <tr>\n",
       "      <th>82</th>\n",
       "      <td>2020-03-28</td>\n",
       "      <td>Deaths</td>\n",
       "      <td>6</td>\n",
       "    </tr>\n",
       "    <tr>\n",
       "      <th>83</th>\n",
       "      <td>2020-03-29</td>\n",
       "      <td>Deaths</td>\n",
       "      <td>10</td>\n",
       "    </tr>\n",
       "  </tbody>\n",
       "</table>\n",
       "<p>84 rows × 3 columns</p>\n",
       "</div>"
      ],
      "text/plain": [
       "         Date       cols  vals\n",
       "0  2020-03-02  Confirmed     0\n",
       "1  2020-03-03  Confirmed     0\n",
       "2  2020-03-04  Confirmed     0\n",
       "3  2020-03-05  Confirmed     0\n",
       "4  2020-03-06  Confirmed     1\n",
       "..        ...        ...   ...\n",
       "79 2020-03-25     Deaths     4\n",
       "80 2020-03-26     Deaths     6\n",
       "81 2020-03-27     Deaths     6\n",
       "82 2020-03-28     Deaths     6\n",
       "83 2020-03-29     Deaths    10\n",
       "\n",
       "[84 rows x 3 columns]"
      ]
     },
     "execution_count": 34,
     "metadata": {},
     "output_type": "execute_result"
    }
   ],
   "source": [
    "df_colombia_melt"
   ]
  },
  {
   "cell_type": "code",
   "execution_count": 38,
   "metadata": {},
   "outputs": [
    {
     "data": {
      "image/png": "[encoded data removed]",
      "text/plain": [
       "<Figure size 1080x360 with 1 Axes>"
      ]
     },
     "metadata": {
      "needs_background": "light"
     },
     "output_type": "display_data"
    }
   ],
   "source": [
    "# visualizando datos a traves del tiempo\n",
    "plt.figure(figsize=(15,5))\n",
    "ax = sns.lineplot(x=\"Date\", y=\"vals\", hue=\"cols\", data= df_colombia_melt)\n",
    "# plot = df_tiempo[['Confirmed', 'Recovered', 'Deaths']].plot(figsize=(20, 10))\n",
    "# legend = plt.legend()\n",
    "# legend.prop.set_size(14)"
   ]
  },
  {
   "cell_type": "code",
   "execution_count": 39,
   "metadata": {},
   "outputs": [
    {
     "name": "stderr",
     "output_type": "stream",
     "text": [
      "/home/davinchi/Documents/covid19/tarea1/venv/lib/python3.7/site-packages/statsmodels/tsa/base/tsa_model.py:162: ValueWarning: No frequency information was provided, so inferred frequency D will be used.\n",
      "  % freq, ValueWarning)\n",
      "/home/davinchi/Documents/covid19/tarea1/venv/lib/python3.7/site-packages/statsmodels/tsa/statespace/sarimax.py:975: UserWarning: Non-invertible starting MA parameters found. Using zeros as starting parameters.\n",
      "  warn('Non-invertible starting MA parameters found.'\n"
     ]
    },
    {
     "data": {
      "text/plain": [
       "229.941879872241"
      ]
     },
     "execution_count": 39,
     "metadata": {},
     "output_type": "execute_result"
    }
   ],
   "source": [
    "# definir conjunto de datos\n",
    "df_tiempo = df_colombia.set_index('Date')\n",
    "x = df_tiempo['Confirmed']\n",
    "\n",
    "# instanciar modelo\n",
    "sarima_model = SARIMAX(x, order=(2,3,1), freq='D', seasonal_order=(0,0,0,0))\n",
    "\n",
    "# ajustar modelo\n",
    "results = sarima_model.fit()\n",
    "\n",
    "# mirar el AIC\n",
    "results.aic"
   ]
  },
  {
   "cell_type": "code",
   "execution_count": 40,
   "metadata": {},
   "outputs": [
    {
     "data": {
      "text/plain": [
       "2020-03-30     783.208947\n",
       "2020-03-31     859.310003\n",
       "2020-04-01     949.700904\n",
       "2020-04-02    1044.919228\n",
       "2020-04-03    1136.461418\n",
       "2020-04-04    1231.929966\n",
       "2020-04-05    1334.143109\n",
       "2020-04-06    1438.049558\n",
       "2020-04-07    1543.381890\n",
       "2020-04-08    1653.073690\n",
       "2020-04-09    1766.504122\n",
       "2020-04-10    1882.173838\n",
       "2020-04-11    2000.829522\n",
       "2020-04-12    2123.124430\n",
       "2020-04-13    2248.463324\n",
       "2020-04-14    2376.632651\n",
       "2020-04-15    2508.026035\n",
       "2020-04-16    2642.660878\n",
       "2020-04-17    2780.309486\n",
       "2020-04-18    2921.021946\n",
       "2020-04-19    3064.914132\n",
       "Freq: D, dtype: float64"
      ]
     },
     "execution_count": 40,
     "metadata": {},
     "output_type": "execute_result"
    }
   ],
   "source": [
    "prediccion = results.get_forecast(steps=21).predicted_mean\n",
    "prediccion"
   ]
  },
  {
   "cell_type": "code",
   "execution_count": 41,
   "metadata": {},
   "outputs": [
    {
     "data": {
      "text/plain": [
       "<matplotlib.axes._subplots.AxesSubplot at 0x7f308dbef150>"
      ]
     },
     "execution_count": 41,
     "metadata": {},
     "output_type": "execute_result"
    },
    {
     "data": {
      "image/png": "[encoded data removed]",
      "text/plain": [
       "<Figure size 1440x720 with 1 Axes>"
      ]
     },
     "metadata": {
      "needs_background": "light"
     },
     "output_type": "display_data"
    }
   ],
   "source": [
    "df_final = pd.concat([df_tiempo['Confirmed'], prediccion])\n",
    "df_final.plot(figsize=(20, 10))"
   ]
  },
  {
   "cell_type": "code",
   "execution_count": null,
   "metadata": {},
   "outputs": [],
   "source": []
  }
 ],
 "metadata": {
  "kernelspec": {
   "display_name": "Python 3",
   "language": "python",
   "name": "python3"
  },
  "language_info": {
   "codemirror_mode": {
    "name": "ipython",
    "version": 3
   },
   "file_extension": ".py",
   "mimetype": "text/x-python",
   "name": "python",
   "nbconvert_exporter": "python",
   "pygments_lexer": "ipython3",
   "version": "3.7.5"
  },
  "toc": {
   "base_numbering": 1,
   "nav_menu": {},
   "number_sections": true,
   "sideBar": true,
   "skip_h1_title": false,
   "title_cell": "Table of Contents",
   "title_sidebar": "Contents",
   "toc_cell": false,
   "toc_position": {},
   "toc_section_display": true,
   "toc_window_display": false
  }
 },
 "nbformat": 4,
 "nbformat_minor": 4
}
